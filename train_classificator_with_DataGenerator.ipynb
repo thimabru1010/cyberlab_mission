{
 "cells": [
  {
   "cell_type": "code",
   "execution_count": 80,
   "metadata": {},
   "outputs": [],
   "source": [
    "from keras.datasets import cifar10\n",
    "from keras.layers import Input, Dense, Conv2D, MaxPool2D, Flatten, Dropout, BatchNormalization, Activation\n",
    "from keras.optimizers import SGD, Adam\n",
    "from keras.models import Model, load_model\n",
    "from keras.callbacks import ModelCheckpoint, EarlyStopping\n",
    "from keras import backend as k\n",
    "import keras\n",
    "import matplotlib.pyplot as plt\n",
    "import numpy as np\n",
    "from sklearn.utils import shuffle\n",
    "from sklearn.manifold import TSNE\n",
    "from IPython.display import clear_output\n",
    "from keras.regularizers import l2\n",
    "from keras.preprocessing.image import ImageDataGenerator, array_to_img\n",
    "\n",
    "import os\n",
    "from tqdm import tqdm\n",
    "import json"
   ]
  },
  {
   "cell_type": "code",
   "execution_count": 70,
   "metadata": {},
   "outputs": [],
   "source": [
    "def CNN(input_shape, classes):\n",
    "    activation_f = 'relu'\n",
    "    input_img = Input(shape=input_shape)\n",
    "    # layer 1\n",
    "    x = Conv2D(32, (3,3), strides=1, activation='linear', padding='same')(input_img)\n",
    "    x = BatchNormalization(momentum=0.8)(x)\n",
    "    x = Activation(activation_f)(x)\n",
    "    x = Conv2D(32, (3,3), strides=1, activation='linear', padding='same')(x)\n",
    "    x = BatchNormalization(axis=-1)(x)\n",
    "    x = Activation(activation_f)(x)\n",
    "    x = MaxPool2D(pool_size=(2,2), strides=2, padding='same')(x)\n",
    "    #layer 2\n",
    "    x = Conv2D(64, (3,3), strides=1, activation='linear', padding='same')(x)\n",
    "    x = BatchNormalization(momentum=0.8)(x)\n",
    "    x = Activation(activation_f)(x)\n",
    "    x = Conv2D(64, (3,3), strides=1, activation='linear', padding='same')(x)\n",
    "    x = BatchNormalization(axis=-1)(x)\n",
    "    x = Activation(activation_f)(x)\n",
    "    x = MaxPool2D(pool_size=(2,2), strides=2, padding='same')(x)\n",
    "    #x = Dropout(0.5)(x)\n",
    "    #layer 3\n",
    "    x = Conv2D(128, (3,3), strides=1, activation='linear', padding='same')(x)\n",
    "    x = BatchNormalization(momentum=0.8)(x)\n",
    "    x = Activation(activation_f)(x)\n",
    "    x = Conv2D(128, (3,3), strides=1, activation='linear', padding='same')(x)\n",
    "    x = BatchNormalization(axis=-1)(x)\n",
    "    x = Activation(activation_f)(x)\n",
    "    x = MaxPool2D(pool_size=(2,2), strides=2, padding='same')(x)\n",
    "    # fully-connected layer\n",
    "    x = Flatten()(x)\n",
    "    x = Dense(128, activation='linear')(x)\n",
    "    x = Activation(activation_f)(x)\n",
    "    x = BatchNormalization(momentum=0.8)(x)\n",
    "    x = Dropout(0.5)(x)\n",
    "    # softmax layer (output)\n",
    "    pred = Dense(classes, activation='softmax')(x)\n",
    "    \n",
    "    model  = Model(input_img , pred)\n",
    "    \n",
    "    return model\n",
    "    "
   ]
  },
  {
   "cell_type": "code",
   "execution_count": 56,
   "metadata": {},
   "outputs": [],
   "source": [
    "def graph_training_history(history):\n",
    "    acc_train = history['accuracy']\n",
    "    acc_test = history['val_accuracy']\n",
    "    loss_train = history['loss']\n",
    "    loss_test = history['val_loss']\n",
    "    #print(acc_train, acc_test, loss_train, loss_test)\n",
    "    print(len(acc_train))\n",
    "    plt.rcParams['axes.facecolor']='white'\n",
    "    plt.figure(1)\n",
    "\n",
    "    # summarize history for accuracy\n",
    "    plt.subplot(121)\n",
    "    plt.plot(acc_train)\n",
    "    plt.plot(acc_test)\n",
    "    plt.title('model accuracy')\n",
    "    plt.ylabel('accuracy')\n",
    "    plt.xlabel('epoch')\n",
    "    plt.legend(['train', 'test'], loc='upper left')\n",
    "    plt.tight_layout()\n",
    "\n",
    "    # summarize history for loss\n",
    "    plt.subplot(122)\n",
    "    plt.plot(loss_train)\n",
    "    plt.plot(loss_test)\n",
    "    plt.title('model loss')\n",
    "    plt.ylabel('loss')\n",
    "    plt.xlabel('epoch')\n",
    "    plt.legend(['train', 'test'], loc='upper right')\n",
    "    plt.tight_layout()\n",
    "    \n",
    "    plt.show()"
   ]
  },
  {
   "cell_type": "code",
   "execution_count": 62,
   "metadata": {},
   "outputs": [],
   "source": [
    "batch_size = 32\n",
    "\n",
    "aug2=ImageDataGenerator(rescale=1./255, rotation_range=60, \n",
    "                    horizontal_flip=True, \n",
    "                    zoom_range=0.3)\n",
    "       \n",
    "aug = ImageDataGenerator(rescale=1./255)\n",
    "\n",
    "train_folder = \"/home/thimabru/Deep_Learning_aula/aula4/cyberlab_mission/UCMERCED_HW_SceneClassification/data/separated_in_labels/train\"\n",
    "test_folder = \"/home/thimabru/Deep_Learning_aula/aula4/cyberlab_mission/UCMERCED_HW_SceneClassification/data/separated_in_labels/val\""
   ]
  },
  {
   "cell_type": "code",
   "execution_count": 57,
   "metadata": {},
   "outputs": [
    {
     "name": "stdout",
     "output_type": "stream",
     "text": [
      "150 150\n",
      "Found 1332 images belonging to 21 classes.\n",
      "Found 342 images belonging to 21 classes.\n"
     ]
    }
   ],
   "source": [
    "input_shape = (150 , 150 , 3)\n",
    "(w, h, _) = input_shape\n",
    "print(w,h)\n",
    "train_generator = aug2.flow_from_directory(train_folder, \n",
    "                                           target_size=(w, h),batch_size=batch_size, \n",
    "                                           class_mode='categorical', shuffle=True, seed=42)\n",
    "\n",
    "test_generator = aug.flow_from_directory(test_folder,  \n",
    "                                         target_size=(w, h),  batch_size=batch_size,  \n",
    "                                         class_mode='categorical', shuffle=True, seed=42)"
   ]
  },
  {
   "cell_type": "code",
   "execution_count": 67,
   "metadata": {},
   "outputs": [],
   "source": [
    "file_name = 'best_model.h5'\n",
    "checkpointer = ModelCheckpoint(file_name, monitor='val_acc', save_best_only=True)\n",
    "early_stop = EarlyStopping(monitor = 'val_acc', min_delta = 0.001,\n",
    "mode = 'max', patience = 5)\n",
    "callbacks=[early_stop,checkpointer]"
   ]
  },
  {
   "cell_type": "code",
   "execution_count": 73,
   "metadata": {},
   "outputs": [
    {
     "name": "stdout",
     "output_type": "stream",
     "text": [
      "Model: \"model_14\"\n",
      "_________________________________________________________________\n",
      "Layer (type)                 Output Shape              Param #   \n",
      "=================================================================\n",
      "input_16 (InputLayer)        (None, 150, 150, 3)       0         \n",
      "_________________________________________________________________\n",
      "conv2d_64 (Conv2D)           (None, 150, 150, 32)      896       \n",
      "_________________________________________________________________\n",
      "batch_normalization_76 (Batc (None, 150, 150, 32)      128       \n",
      "_________________________________________________________________\n",
      "activation_75 (Activation)   (None, 150, 150, 32)      0         \n",
      "_________________________________________________________________\n",
      "conv2d_65 (Conv2D)           (None, 150, 150, 32)      9248      \n",
      "_________________________________________________________________\n",
      "batch_normalization_77 (Batc (None, 150, 150, 32)      128       \n",
      "_________________________________________________________________\n",
      "activation_76 (Activation)   (None, 150, 150, 32)      0         \n",
      "_________________________________________________________________\n",
      "max_pooling2d_40 (MaxPooling (None, 75, 75, 32)        0         \n",
      "_________________________________________________________________\n",
      "conv2d_66 (Conv2D)           (None, 75, 75, 64)        18496     \n",
      "_________________________________________________________________\n",
      "batch_normalization_78 (Batc (None, 75, 75, 64)        256       \n",
      "_________________________________________________________________\n",
      "activation_77 (Activation)   (None, 75, 75, 64)        0         \n",
      "_________________________________________________________________\n",
      "conv2d_67 (Conv2D)           (None, 75, 75, 64)        36928     \n",
      "_________________________________________________________________\n",
      "batch_normalization_79 (Batc (None, 75, 75, 64)        256       \n",
      "_________________________________________________________________\n",
      "activation_78 (Activation)   (None, 75, 75, 64)        0         \n",
      "_________________________________________________________________\n",
      "max_pooling2d_41 (MaxPooling (None, 38, 38, 64)        0         \n",
      "_________________________________________________________________\n",
      "conv2d_68 (Conv2D)           (None, 38, 38, 128)       73856     \n",
      "_________________________________________________________________\n",
      "batch_normalization_80 (Batc (None, 38, 38, 128)       512       \n",
      "_________________________________________________________________\n",
      "activation_79 (Activation)   (None, 38, 38, 128)       0         \n",
      "_________________________________________________________________\n",
      "conv2d_69 (Conv2D)           (None, 38, 38, 128)       147584    \n",
      "_________________________________________________________________\n",
      "batch_normalization_81 (Batc (None, 38, 38, 128)       512       \n",
      "_________________________________________________________________\n",
      "activation_80 (Activation)   (None, 38, 38, 128)       0         \n",
      "_________________________________________________________________\n",
      "max_pooling2d_42 (MaxPooling (None, 19, 19, 128)       0         \n",
      "_________________________________________________________________\n",
      "flatten_14 (Flatten)         (None, 46208)             0         \n",
      "_________________________________________________________________\n",
      "dense_27 (Dense)             (None, 128)               5914752   \n",
      "_________________________________________________________________\n",
      "activation_81 (Activation)   (None, 128)               0         \n",
      "_________________________________________________________________\n",
      "batch_normalization_82 (Batc (None, 128)               512       \n",
      "_________________________________________________________________\n",
      "dropout_15 (Dropout)         (None, 128)               0         \n",
      "_________________________________________________________________\n",
      "dense_28 (Dense)             (None, 21)                2709      \n",
      "=================================================================\n",
      "Total params: 6,206,773\n",
      "Trainable params: 6,205,621\n",
      "Non-trainable params: 1,152\n",
      "_________________________________________________________________\n",
      "Epoch 1/30\n",
      "30/30 [==============================] - 15s 503ms/step - loss: 2.8623 - accuracy: 0.2263 - val_loss: 4.2407 - val_accuracy: 0.0469\n",
      "Epoch 2/30\n",
      "30/30 [==============================] - 13s 434ms/step - loss: 2.0943 - accuracy: 0.3784 - val_loss: 5.5142 - val_accuracy: 0.0312\n",
      "Epoch 3/30\n",
      "30/30 [==============================] - 13s 439ms/step - loss: 1.7830 - accuracy: 0.4476 - val_loss: 5.2170 - val_accuracy: 0.1562\n",
      "Epoch 4/30\n",
      "30/30 [==============================] - 13s 430ms/step - loss: 1.5721 - accuracy: 0.5222 - val_loss: 3.8826 - val_accuracy: 0.1562\n",
      "Epoch 5/30\n",
      "30/30 [==============================] - 13s 431ms/step - loss: 1.4392 - accuracy: 0.5571 - val_loss: 3.4520 - val_accuracy: 0.1562\n",
      "Epoch 6/30\n",
      "30/30 [==============================] - 13s 427ms/step - loss: 1.3195 - accuracy: 0.6113 - val_loss: 3.2264 - val_accuracy: 0.2273\n",
      "Epoch 7/30\n",
      "30/30 [==============================] - 13s 430ms/step - loss: 1.2198 - accuracy: 0.6336 - val_loss: 2.3692 - val_accuracy: 0.2969\n",
      "Epoch 8/30\n",
      "30/30 [==============================] - 13s 431ms/step - loss: 1.1370 - accuracy: 0.6640 - val_loss: 1.3769 - val_accuracy: 0.6719\n",
      "Epoch 9/30\n",
      "30/30 [==============================] - 13s 431ms/step - loss: 1.0760 - accuracy: 0.6887 - val_loss: 1.4589 - val_accuracy: 0.5312\n",
      "Epoch 10/30\n",
      "30/30 [==============================] - 13s 432ms/step - loss: 0.9845 - accuracy: 0.7086 - val_loss: 1.1060 - val_accuracy: 0.7188\n",
      "Epoch 11/30\n",
      "30/30 [==============================] - 13s 431ms/step - loss: 0.9451 - accuracy: 0.7170 - val_loss: 1.4252 - val_accuracy: 0.6562\n",
      "Epoch 12/30\n",
      "30/30 [==============================] - 13s 427ms/step - loss: 0.8823 - accuracy: 0.7526 - val_loss: 1.5539 - val_accuracy: 0.5455\n",
      "Epoch 13/30\n",
      "30/30 [==============================] - 13s 432ms/step - loss: 0.8234 - accuracy: 0.7809 - val_loss: 0.8553 - val_accuracy: 0.7500\n",
      "Epoch 14/30\n",
      "30/30 [==============================] - 13s 429ms/step - loss: 0.7717 - accuracy: 0.8017 - val_loss: 0.9428 - val_accuracy: 0.7031\n",
      "Epoch 15/30\n",
      "30/30 [==============================] - 13s 432ms/step - loss: 0.7530 - accuracy: 0.7951 - val_loss: 1.1779 - val_accuracy: 0.7031\n",
      "Epoch 16/30\n",
      "30/30 [==============================] - 13s 428ms/step - loss: 0.7249 - accuracy: 0.8096 - val_loss: 0.7744 - val_accuracy: 0.7500\n",
      "Epoch 17/30\n",
      "30/30 [==============================] - 13s 431ms/step - loss: 0.6892 - accuracy: 0.8208 - val_loss: 0.9455 - val_accuracy: 0.7656\n",
      "Epoch 18/30\n",
      "30/30 [==============================] - 13s 425ms/step - loss: 0.6416 - accuracy: 0.8307 - val_loss: 0.8657 - val_accuracy: 0.8636\n",
      "Epoch 19/30\n",
      "30/30 [==============================] - 13s 431ms/step - loss: 0.6034 - accuracy: 0.8386 - val_loss: 0.6516 - val_accuracy: 0.8281\n",
      "Epoch 20/30\n",
      "30/30 [==============================] - 13s 430ms/step - loss: 0.5753 - accuracy: 0.8502 - val_loss: 0.7106 - val_accuracy: 0.7969\n",
      "Epoch 21/30\n",
      "30/30 [==============================] - 13s 431ms/step - loss: 0.5521 - accuracy: 0.8517 - val_loss: 1.0555 - val_accuracy: 0.6875\n",
      "Epoch 22/30\n",
      "30/30 [==============================] - 13s 431ms/step - loss: 0.5445 - accuracy: 0.8606 - val_loss: 1.0258 - val_accuracy: 0.6719\n",
      "Epoch 23/30\n",
      "30/30 [==============================] - 13s 429ms/step - loss: 0.4864 - accuracy: 0.8819 - val_loss: 0.7779 - val_accuracy: 0.7969\n",
      "Epoch 24/30\n",
      "30/30 [==============================] - 13s 429ms/step - loss: 0.4985 - accuracy: 0.8774 - val_loss: 0.7034 - val_accuracy: 0.8182\n",
      "Epoch 25/30\n",
      "30/30 [==============================] - 13s 430ms/step - loss: 0.4803 - accuracy: 0.8771 - val_loss: 1.0287 - val_accuracy: 0.7188\n",
      "Epoch 26/30\n",
      "30/30 [==============================] - 13s 433ms/step - loss: 0.4983 - accuracy: 0.8766 - val_loss: 0.8938 - val_accuracy: 0.7344\n",
      "Epoch 27/30\n",
      "30/30 [==============================] - 13s 433ms/step - loss: 0.4368 - accuracy: 0.9000 - val_loss: 0.5803 - val_accuracy: 0.8594\n",
      "Epoch 28/30\n",
      "30/30 [==============================] - 13s 428ms/step - loss: 0.4357 - accuracy: 0.9030 - val_loss: 0.5716 - val_accuracy: 0.8125\n",
      "Epoch 29/30\n",
      "30/30 [==============================] - 13s 432ms/step - loss: 0.4095 - accuracy: 0.9036 - val_loss: 0.8783 - val_accuracy: 0.7656\n"
     ]
    },
    {
     "name": "stdout",
     "output_type": "stream",
     "text": [
      "Epoch 30/30\n",
      "30/30 [==============================] - 13s 426ms/step - loss: 0.4108 - accuracy: 0.9093 - val_loss: 0.5388 - val_accuracy: 0.7727\n"
     ]
    }
   ],
   "source": [
    "# Define shapes\n",
    "classes = 21\n",
    "epochs = 30\n",
    "lr = 1e-4\n",
    "batch_size = 64\n",
    "epochs = 30\n",
    "adam = Adam(learning_rate = lr)\n",
    "net = CNN(input_shape, classes)\n",
    "net.compile(loss = 'categorical_crossentropy', optimizer=adam , metrics=['accuracy'])\n",
    "net.summary()\n",
    "\n",
    "history = net.fit_generator(train_generator, steps_per_epoch=30, epochs=epochs, \n",
    "                              validation_data=test_generator,  validation_steps=1, \n",
    "                              verbose=1,callbacks=callbacks)\n"
   ]
  },
  {
   "cell_type": "code",
   "execution_count": 74,
   "metadata": {},
   "outputs": [
    {
     "name": "stdout",
     "output_type": "stream",
     "text": [
      "30\n"
     ]
    },
    {
     "data": {
      "image/png": "[encoded data removed]",
      "text/plain": [
       "<Figure size 432x288 with 2 Axes>"
      ]
     },
     "metadata": {
      "needs_background": "light"
     },
     "output_type": "display_data"
    }
   ],
   "source": [
    "graph_training_history(history.history)"
   ]
  },
  {
   "cell_type": "code",
   "execution_count": 76,
   "metadata": {},
   "outputs": [
    {
     "ename": "NameError",
     "evalue": "name 'x_test' is not defined",
     "output_type": "error",
     "traceback": [
      "\u001b[0;31m---------------------------------------------------------------------------\u001b[0m",
      "\u001b[0;31mNameError\u001b[0m                                 Traceback (most recent call last)",
      "\u001b[0;32m<ipython-input-76-096c34640793>\u001b[0m in \u001b[0;36m<module>\u001b[0;34m\u001b[0m\n\u001b[0;32m----> 1\u001b[0;31m \u001b[0mloss_ts\u001b[0m \u001b[0;34m=\u001b[0m \u001b[0mnet\u001b[0m\u001b[0;34m.\u001b[0m\u001b[0mevaluate\u001b[0m\u001b[0;34m(\u001b[0m\u001b[0mx_test\u001b[0m\u001b[0;34m,\u001b[0m \u001b[0my_test_h\u001b[0m\u001b[0;34m,\u001b[0m \u001b[0mverbose\u001b[0m\u001b[0;34m=\u001b[0m\u001b[0;36m1\u001b[0m\u001b[0;34m)\u001b[0m\u001b[0;34m\u001b[0m\u001b[0;34m\u001b[0m\u001b[0m\n\u001b[0m\u001b[1;32m      2\u001b[0m \u001b[0mprint\u001b[0m\u001b[0;34m(\u001b[0m\u001b[0;34m\"[Test loss: %f , Test acc.:%.2f%%] %(loss_ts[0] , 100 * loss_ts[1]\"\u001b[0m\u001b[0;34m)\u001b[0m\u001b[0;34m\u001b[0m\u001b[0;34m\u001b[0m\u001b[0m\n",
      "\u001b[0;31mNameError\u001b[0m: name 'x_test' is not defined"
     ]
    }
   ],
   "source": [
    "loss_ts = net.evaluate(x_test, y_test_h, verbose=1)\n",
    "print(\"[Test loss: %f , Test acc.:%.2f%%] %(loss_ts[0] , 100 * loss_ts[1]\")"
   ]
  },
  {
   "cell_type": "code",
   "execution_count": 82,
   "metadata": {},
   "outputs": [],
   "source": [
    "net.save('model.h5')\n",
    "# Saving history\n",
    "with open('history.json', 'w') as f:\n",
    "    json.dump(str(history.history), f)"
   ]
  },
  {
   "cell_type": "code",
   "execution_count": null,
   "metadata": {},
   "outputs": [],
   "source": []
  }
 ],
 "metadata": {
  "kernelspec": {
   "display_name": "Python 3",
   "language": "python",
   "name": "python3"
  },
  "language_info": {
   "codemirror_mode": {
    "name": "ipython",
    "version": 3
   },
   "file_extension": ".py",
   "mimetype": "text/x-python",
   "name": "python",
   "nbconvert_exporter": "python",
   "pygments_lexer": "ipython3",
   "version": "3.6.9"
  }
 },
 "nbformat": 4,
 "nbformat_minor": 4
}
